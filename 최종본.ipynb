{
  "nbformat": 4,
  "nbformat_minor": 0,
  "metadata": {
    "colab": {
      "name": "최종본.ipynb",
      "provenance": [],
      "collapsed_sections": [],
      "authorship_tag": "ABX9TyM6OmZY4/uT+iMgKTVb8fng",
      "include_colab_link": true
    },
    "kernelspec": {
      "name": "python3",
      "display_name": "Python 3"
    },
    "language_info": {
      "name": "python"
    }
  },
  "cells": [
    {
      "cell_type": "markdown",
      "metadata": {
        "id": "view-in-github",
        "colab_type": "text"
      },
      "source": [
        "<a href=\"https://colab.research.google.com/github/hyenee99/visitor/blob/main/%EC%B5%9C%EC%A2%85%EB%B3%B8.ipynb\" target=\"_parent\"><img src=\"https://colab.research.google.com/assets/colab-badge.svg\" alt=\"Open In Colab\"/></a>"
      ]
    },
    {
      "cell_type": "code",
      "execution_count": null,
      "metadata": {
        "colab": {
          "base_uri": "https://localhost:8080/"
        },
        "id": "R70c-ugum-o2",
        "outputId": "b78f33e8-c497-4aad-8681-611e2167399f"
      },
      "outputs": [
        {
          "output_type": "stream",
          "name": "stdout",
          "text": [
            "Mounted at /content/drive\n"
          ]
        }
      ],
      "source": [
        "from google.colab import drive\n",
        "\n",
        "drive.mount('/content/drive')"
      ]
    },
    {
      "cell_type": "code",
      "source": [
        "import pandas as pd\n",
        "df=pd.read_csv(\"/content/drive/MyDrive/인공지능/temp_visitor3.csv\") #데이터 불러오기\n",
        "\n",
        "grandpark_input=df[['month','temp','day','weather']].to_numpy() # 온도, 요일, 날씨를 특성으로 설정\n",
        "grandpark_target=df['visitors'].to_numpy() # 방문객을 종속변수로 설정"
      ],
      "metadata": {
        "id": "PlmlVZR2nHq9"
      },
      "execution_count": null,
      "outputs": []
    },
    {
      "cell_type": "code",
      "source": [
        "import pandas as pd \n",
        "import seaborn as sns \n",
        "\n",
        "df = pd.read_csv('/content/drive/MyDrive/인공지능/temp_visitor3.csv') \n",
        "sns.heatmap(df.corr(), annot=True)"
      ],
      "metadata": {
        "colab": {
          "base_uri": "https://localhost:8080/",
          "height": 287
        },
        "id": "vw5075crItmG",
        "outputId": "cb1499e6-e5ca-4495-fb0c-1341865565d7"
      },
      "execution_count": null,
      "outputs": [
        {
          "output_type": "execute_result",
          "data": {
            "text/plain": [
              "<matplotlib.axes._subplots.AxesSubplot at 0x7fe871f8b4d0>"
            ]
          },
          "metadata": {},
          "execution_count": 3
        },
        {
          "output_type": "display_data",
          "data": {
            "text/plain": [
              "<Figure size 432x288 with 2 Axes>"
            ],
            "image/png": "[encoded data removed]"
          },
          "metadata": {
            "needs_background": "light"
          }
        }
      ]
    },
    {
      "cell_type": "code",
      "source": [
        "# grandpark_input과 grandpark_target을 훈련세트와 테스트 세트로 나누기\n",
        "from sklearn.model_selection import train_test_split\n",
        "train_input,test_input,train_target,test_target=train_test_split(grandpark_input,grandpark_target,random_state=42)"
      ],
      "metadata": {
        "id": "bpgwB8-InLMG"
      },
      "execution_count": null,
      "outputs": []
    },
    {
      "cell_type": "code",
      "source": [
        "# 변환기 사용\n",
        "from sklearn.preprocessing import PolynomialFeatures\n",
        "import numpy as np\n",
        "\n",
        "poly=PolynomialFeatures(include_bias=False)\n",
        "poly.fit(train_input) #fit() 메서드를 통해 새롭게 만들 특성 조합을 찾음\n",
        "\n",
        "\n",
        "train_poly=poly.transform(train_input) # transform 메서드를 사용하여 train_input 데이터를 변환한 후 train_poly 에 저장\n",
        "test_poly=poly.transform(test_input) #테스트 세트 또한 변환해줌\n",
        "print(train_poly.shape) #14개의 특성을 가진 811개의 데이터 \n",
        "\n",
        "# 예상 방문객 수를 구하기 위한 특성 온도,요일,날씨를 입력받음\n",
        "month=int(input(\"달 입력: \"))\n",
        "temp=int(input(\"온도 입력:\"))\n",
        "day=int(input(\"요일 입력: \"))\n",
        "weather=int(input(\"날씨 입력: \"))\n",
        "new_input=[[month,temp,day,weather]] # new_input에 입력받은 데이터를 저장 \n",
        "\n",
        "polyinput=poly.transform(new_input) # 예측을 위한 독립변수 또한 데이터를 변환해줌 "
      ],
      "metadata": {
        "colab": {
          "base_uri": "https://localhost:8080/"
        },
        "id": "uqnCcZtunbpm",
        "outputId": "5e032116-756e-4bd1-814e-dc3b245107e0"
      },
      "execution_count": null,
      "outputs": [
        {
          "name": "stdout",
          "output_type": "stream",
          "text": [
            "(811, 14)\n",
            "달 입력: 5\n",
            "온도 입력:15\n",
            "요일 입력: 2\n",
            "날씨 입력: 4\n"
          ]
        }
      ]
    },
    {
      "cell_type": "code",
      "source": [
        "# 9개의 특성을 만들고 난 뒤에 다중 회귀 모델 훈련\n",
        "from sklearn.linear_model import LinearRegression\n",
        "lr=LinearRegression()\n",
        "lr.fit(train_poly,train_target) # 훈련세트를 훈련\n",
        "result=lr.predict(polyinput) # 3개의 특성에 의한 예상 방문객 수를 예측 \n",
        "print('예측 결과: ',result) #예측 결과 (예상 방문객 수를 출력 )\n",
        "\n",
        "print(lr.score(train_poly,train_target)) #훈련세트에 대한 점수\n",
        "print(lr.score(test_poly,test_target)) #테스트 세트에 대한 점수 \n",
        "\n",
        "if result<5000:\n",
        "  print(\"혼잡도 : 여유\")\n",
        "elif result>=5000 and result<10000:\n",
        "  print(\"혼잡도: 보통\")\n",
        "elif result>=10000 and result<20000:\n",
        "  print(\"혼잡도 : 혼잡\")\n",
        "else:\n",
        "  print(\"혼잡도: 매우 혼잡\")"
      ],
      "metadata": {
        "colab": {
          "base_uri": "https://localhost:8080/"
        },
        "id": "mU57LnUHpw0k",
        "outputId": "bc3df167-8897-4e4b-f61e-9162b4072cfe"
      },
      "execution_count": null,
      "outputs": [
        {
          "output_type": "stream",
          "name": "stdout",
          "text": [
            "예측 결과:  [7715.57066562]\n",
            "0.5047464431086056\n",
            "0.4902567106271527\n",
            "혼잡도: 보통\n"
          ]
        }
      ]
    },
    {
      "cell_type": "code",
      "source": [
        "# 타깃과 예측한 값 사이의 차이\n",
        "from sklearn.metrics import mean_absolute_error\n",
        "\n",
        "# 테스트 세트에 대한 예측\n",
        "test_prediction=lr.predict(test_poly)\n",
        "# 테스트 세트에 대한 평균 절댓값 오차를 계산\n",
        "mae=mean_absolute_error(test_target,test_prediction)\n",
        "print(mae) #평균적으로 mae 정도 타깃값과 다르다는 것을 알 수 있음 "
      ],
      "metadata": {
        "colab": {
          "base_uri": "https://localhost:8080/"
        },
        "id": "qPAc2T3tqiP1",
        "outputId": "59dbc3fc-13c9-455d-a5de-84de431d110c"
      },
      "execution_count": null,
      "outputs": [
        {
          "output_type": "stream",
          "name": "stdout",
          "text": [
            "4592.562403173016\n"
          ]
        }
      ]
    }
  ]
}